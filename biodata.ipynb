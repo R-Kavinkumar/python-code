{
  "nbformat": 4,
  "nbformat_minor": 0,
  "metadata": {
    "colab": {
      "name": "biodata.ipynb",
      "provenance": [],
      "authorship_tag": "ABX9TyOZW6HQI01P/ZHh3nx1WxqQ",
      "include_colab_link": true
    },
    "kernelspec": {
      "name": "python3",
      "display_name": "Python 3"
    },
    "language_info": {
      "name": "python"
    }
  },
  "cells": [
    {
      "cell_type": "markdown",
      "metadata": {
        "id": "view-in-github",
        "colab_type": "text"
      },
      "source": [
        "<a href=\"https://colab.research.google.com/github/cleverlykk/python-code/blob/main/biodata.ipynb\" target=\"_parent\"><img src=\"https://colab.research.google.com/assets/colab-badge.svg\" alt=\"Open In Colab\"/></a>"
      ]
    },
    {
      "cell_type": "code",
      "metadata": {
        "id": "RFZ_RCw1XcLg",
        "colab": {
          "base_uri": "https://localhost:8080/"
        },
        "outputId": "73ef3b02-5af6-4006-ec03-30a2b152d6db"
      },
      "source": [
        "name=(input(\"Enter your Name:\"))\n",
        "age=(input(\"Enter your Age:\"))\n",
        "address=(input(\"Enter your Address:\"))\n",
        "salary=(input(\"Enter your Salary:\"))\n",
        "mbl_no=(input(\"Enter your Mobile Number:\"))\n",
        "print(\"Personal Details:\")\n",
        "print(\"NAME:\",name)\n",
        "print(\"AGE:\",age)\n",
        "print(\"ADDRESS:\",address)\n",
        "print(\"SALARY:\",salary)\n",
        "print(\"MOBILE NUMBER:\",mbl_no)"
      ],
      "execution_count": 1,
      "outputs": [
        {
          "output_type": "stream",
          "text": [
            "Enter your Name:kavb\n",
            "Enter your Age:12\n",
            "Enter your Address:gnkm gbnn\n",
            "Enter your Salary:2466\n",
            "Enter your Mobile Number:25780\n",
            "Personal Details:\n",
            "NAME: kavb\n",
            "AGE: 12\n",
            "ADDRESS: gnkm gbnn\n",
            "SALARY: 2466\n",
            "MOBILE NUMBER: 25780\n"
          ],
          "name": "stdout"
        }
      ]
    }
  ]
}