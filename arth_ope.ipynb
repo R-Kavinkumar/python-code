{
  "nbformat": 4,
  "nbformat_minor": 0,
  "metadata": {
    "colab": {
      "name": "arth_ope",
      "provenance": [],
      "authorship_tag": "ABX9TyO5kK0CRw2DxCgOrjD4vXAM",
      "include_colab_link": true
    },
    "kernelspec": {
      "name": "python3",
      "display_name": "Python 3"
    },
    "language_info": {
      "name": "python"
    }
  },
  "cells": [
    {
      "cell_type": "markdown",
      "metadata": {
        "id": "view-in-github",
        "colab_type": "text"
      },
      "source": [
        "<a href=\"https://colab.research.google.com/github/cleverlykk/python-code/blob/main/arth_ope.ipynb\" target=\"_parent\"><img src=\"https://colab.research.google.com/assets/colab-badge.svg\" alt=\"Open In Colab\"/></a>"
      ]
    },
    {
      "cell_type": "code",
      "metadata": {
        "colab": {
          "base_uri": "https://localhost:8080/"
        },
        "id": "3J_8TIWJNcOn",
        "outputId": "ad3b2253-b99c-448c-8f7a-3282f008196b"
      },
      "source": [
        "val1=int(input(\"enter the 1st value\"))\n",
        "val2=int(input(\"enter the 2nd value\"))\n",
        "print(\"add:\",val1+val2)\n",
        "print(\"sub:\",val1-val2)\n",
        "print(\"multiple:\",val1*val2)\n",
        "print(\"divide:\",val1//val2)"
      ],
      "execution_count": 3,
      "outputs": [
        {
          "output_type": "stream",
          "text": [
            "enter the 1st value100\n",
            "enter the 2nd value200\n",
            "add: 300\n",
            "sub: -100\n",
            "multiple: 20000\n",
            "divide: 0\n"
          ],
          "name": "stdout"
        }
      ]
    }
  ]
}