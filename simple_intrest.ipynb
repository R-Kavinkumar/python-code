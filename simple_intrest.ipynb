{
  "nbformat": 4,
  "nbformat_minor": 0,
  "metadata": {
    "colab": {
      "name": "simple intrest.ipynb",
      "provenance": [],
      "authorship_tag": "ABX9TyNhA2UfhvZgbw2NhIBC8iHk",
      "include_colab_link": true
    },
    "kernelspec": {
      "name": "python3",
      "display_name": "Python 3"
    },
    "language_info": {
      "name": "python"
    }
  },
  "cells": [
    {
      "cell_type": "markdown",
      "metadata": {
        "id": "view-in-github",
        "colab_type": "text"
      },
      "source": [
        "<a href=\"https://colab.research.google.com/github/cleverlykk/python-code/blob/main/simple_intrest.ipynb\" target=\"_parent\"><img src=\"https://colab.research.google.com/assets/colab-badge.svg\" alt=\"Open In Colab\"/></a>"
      ]
    },
    {
      "cell_type": "code",
      "metadata": {
        "colab": {
          "base_uri": "https://localhost:8080/"
        },
        "id": "rd1Gp-TEV1Cv",
        "outputId": "38dbc34f-7b9d-447d-82f4-6f491cf51a2f"
      },
      "source": [
        "P=int(input(\"Enter the principal amount:\"))\n",
        "N=int(input(\"Enter the number of years:\"))\n",
        "R=int(input(\"Enter the rate of interest:\"))\n",
        "SI=(P*N*R)/100\n",
        "print(\"Simple Interest=\",SI)"
      ],
      "execution_count": 4,
      "outputs": [
        {
          "output_type": "stream",
          "text": [
            "Enter the principal amount:100\n",
            "Enter the number of years:100\n",
            "Enter the rate of interest:100\n",
            "Simple Interest= 10000.0\n"
          ],
          "name": "stdout"
        }
      ]
    }
  ]
}