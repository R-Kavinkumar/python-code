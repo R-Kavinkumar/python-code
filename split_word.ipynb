{
  "nbformat": 4,
  "nbformat_minor": 0,
  "metadata": {
    "colab": {
      "name": "split word.ipynb",
      "provenance": [],
      "authorship_tag": "ABX9TyNA2Chvj6CxZjiS9AM7bqGf",
      "include_colab_link": true
    },
    "kernelspec": {
      "name": "python3",
      "display_name": "Python 3"
    },
    "language_info": {
      "name": "python"
    }
  },
  "cells": [
    {
      "cell_type": "markdown",
      "metadata": {
        "id": "view-in-github",
        "colab_type": "text"
      },
      "source": [
        "<a href=\"https://colab.research.google.com/github/cleverlykk/python-code/blob/main/split_word.ipynb\" target=\"_parent\"><img src=\"https://colab.research.google.com/assets/colab-badge.svg\" alt=\"Open In Colab\"/></a>"
      ]
    },
    {
      "cell_type": "code",
      "metadata": {
        "id": "PUW3wN98HzQb",
        "colab": {
          "base_uri": "https://localhost:8080/"
        },
        "outputId": "3867cdcb-62b7-44e5-f0f1-5d59f8b5a93d"
      },
      "source": [
        "name=input(\"enter the name to reverse:  \")\n",
        "split=name.split()\n",
        "rev=split[::-1]\n",
        "last_val=\"\"\n",
        "for i in range (len(split)):\n",
        " last_val+=\" \"\n",
        " last_val+=rev[i]\n",
        "print(last_val)"
      ],
      "execution_count": 2,
      "outputs": [
        {
          "output_type": "stream",
          "text": [
            "enter the name to reverse:  kavin kumar Nisha\n",
            " Nisha kumar kavin\n"
          ],
          "name": "stdout"
        }
      ]
    },
    {
      "cell_type": "markdown",
      "metadata": {
        "id": "smzRPSwjNVBD"
      },
      "source": [
        ""
      ]
    },
    {
      "cell_type": "code",
      "metadata": {
        "id": "DxVoIi3gNjx5"
      },
      "source": [
        ""
      ],
      "execution_count": null,
      "outputs": []
    },
    {
      "cell_type": "markdown",
      "metadata": {
        "id": "oGMXjehBNkqH"
      },
      "source": [
        ""
      ]
    },
    {
      "cell_type": "markdown",
      "metadata": {
        "id": "wzQ3u4mJNYwW"
      },
      "source": [
        ""
      ]
    }
  ]
}